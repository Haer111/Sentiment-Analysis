{
 "cells": [
  {
   "cell_type": "markdown",
   "id": "9b47107e",
   "metadata": {},
   "source": [
    "# 감성 분석 모델 학습 및 추론"
   ]
  },
  {
   "cell_type": "code",
   "execution_count": 2,
   "id": "a3d796af",
   "metadata": {},
   "outputs": [],
   "source": [
    "import json\n",
    "import glob\n",
    "import pandas as pd\n",
    "from konlpy.tag import Okt\n",
    "from sklearn.model_selection import train_test_split\n",
    "import tensorflow as tf\n",
    "from tensorflow.keras.preprocessing.text import Tokenizer\n",
    "from tensorflow.keras.preprocessing.sequence import pad_sequences\n",
    "from tensorflow.keras.models import Sequential\n",
    "from tensorflow.keras.layers import Embedding, LSTM, Dense, Dropout"
   ]
  },
  {
   "cell_type": "markdown",
   "id": "a5a960ee",
   "metadata": {},
   "source": [
    "### 1. 데이터 로드"
   ]
  },
  {
   "cell_type": "code",
   "execution_count": 3,
   "id": "21de1d19",
   "metadata": {},
   "outputs": [],
   "source": [
    "# 데이터 다운로드\n",
    "train_files = glob.glob('data/train/*.json')\n",
    "val_files = glob.glob('data/val/*.json')\n",
    "# for f in file_list:\n",
    "#     with open(f, encoding='utf-8') as fp:\n",
    "#         data = json.load(fp)\n",
    "#         for r in data:\n",
    "#             records.append((r['RawText'], int(r['GeneralPolarity'])))\n",
    "# r['GeneralPolarity']를 못 찾는 에러 발생해서 수정함.\n",
    "# 훈련/평가 데이터를 합쳐서 가져오는 바람에 또 수정.\n",
    "\n",
    "def load_json(files):\n",
    "    records = []\n",
    "    for f in files:\n",
    "        with open(f, encoding='utf-8') as fp:\n",
    "            data = json.load(fp)\n",
    "            for r in data:\n",
    "                text = r.get('RawText')\n",
    "                polarity = r.get('GeneralPolarity')\n",
    "                if text is not None and polarity is not None:\n",
    "                    polarity = int(polarity)\n",
    "                    records.append((text, polarity))\n",
    "    # 데이터프레임 생성\n",
    "    return pd.DataFrame(records, columns=['text', 'label'])\n",
    "\n",
    "train_df = load_json(train_files)\n",
    "val_df = load_json(val_files)"
   ]
  },
  {
   "cell_type": "code",
   "execution_count": 4,
   "id": "2bc2119b",
   "metadata": {},
   "outputs": [
    {
     "name": "stdout",
     "output_type": "stream",
     "text": [
      "15229\n",
      "1974\n",
      "                                                text  label\n",
      "0                                  가격이 착하고 디자인이 예쁩니다      1\n",
      "1                    싸고  디자인이 예뻐요. . 정말  가성비 가심비 입니다      1\n",
      "2  편하고  디자인이 예뻐요  가격도  좋아요   시원해요  빨리 마르고  이것만  입게되요      1\n",
      "3                          너무 착한가격에 감사합니다 윈하는 색은 없지만      1\n",
      "4  가격이  너무 좋아서  블랙 구매했습니다  그런데 소재도  맘에  들어  흰색도  ...      1\n",
      "                                                text  label\n",
      "0  엄마 사드렸는데 배도 편하게 눌러주고  미디가 길어 편하다고...다섯가지 색상 모두...      1\n",
      "1  입자마자 시원하고 배 부분도 잘 잡아주고 입어보니 넝수편하네요^^ 반사이즈는 아래가...      1\n",
      "2               생각처럼 얇지는 않지만 스판기짱에 착용감이 완전편하고 좋아요 굿굿      1\n",
      "3  장점은 품질.핏은 좋아요 가격은 싸요 단점은 더워요~~허리밴드부분이 땀 채여요 ㅜㅜ...      0\n",
      "4    허리를 강하게 잡아주어서 좋구요.원단이 앏아서 덥지 않는 바지입니다. 맘에듭니다~^^      1\n"
     ]
    }
   ],
   "source": [
    "print(len(train_df))\n",
    "print(len(val_df))\n",
    "print(train_df.head())\n",
    "print(val_df.head())"
   ]
  },
  {
   "cell_type": "markdown",
   "id": "c700302c",
   "metadata": {},
   "source": [
    "### 2. 데이터 전처리"
   ]
  },
  {
   "cell_type": "code",
   "execution_count": 5,
   "id": "c351f5f6",
   "metadata": {},
   "outputs": [],
   "source": [
    "# 결측치 제거\n",
    "# 한글 토큰화 전처리 (특수문자 처리, 어간 추출, 불용어 처리) -> 함수\n",
    "\n",
    "okt = Okt()\n",
    "stop_words = ['의','가','이','은','들','는','좀','잘','걍','과','도','를','으로','자','에','와','한','하다']\n",
    "\n",
    "def kor_tokenize(text):\n",
    "    tokens = okt.morphs(text, stem = True)\n",
    "    tokens = [t for t in tokens if t not in stop_words]\n",
    "    return ' '.join(tokens)\n",
    "\n",
    "# 훈련데이터 전처리\n",
    "# 평가데이터 전처리\n",
    "train_df.dropna(inplace=True)\n",
    "val_df.dropna(inplace=True)\n",
    "\n",
    "train_df['new_text'] = train_df['text'].apply(kor_tokenize)\n",
    "val_df['new_text'] = val_df['text'].apply(kor_tokenize)"
   ]
  },
  {
   "cell_type": "code",
   "execution_count": 11,
   "id": "e6dd8765",
   "metadata": {},
   "outputs": [],
   "source": [
    "# 라벨 변환 (-1, 0, 1 을 0, 1, 2로)\n",
    "train_df['label_add'] = train_df['label'] + 1\n",
    "val_df['label_add'] = val_df['label'] + 1"
   ]
  },
  {
   "cell_type": "code",
   "execution_count": 12,
   "id": "f186b339",
   "metadata": {},
   "outputs": [],
   "source": [
    "tokenizer = Tokenizer()\n",
    "tokenizer.fit_on_texts(train_df['new_text'])\n",
    "\n",
    "X_train = tokenizer.texts_to_sequences(train_df['new_text'])\n",
    "X_val = tokenizer.texts_to_sequences(val_df['new_text'])\n",
    "\n",
    "max_len = 50\n",
    "X_train = pad_sequences(X_train, maxlen=max_len)\n",
    "X_val = pad_sequences(X_val, maxlen = max_len)\n",
    "\n",
    "y_train = train_df['label_add'].values\n",
    "y_val = val_df['label_add'].values"
   ]
  },
  {
   "cell_type": "markdown",
   "id": "f773b51c",
   "metadata": {},
   "source": [
    "### 3. 모델 정의 및 생성"
   ]
  },
  {
   "cell_type": "code",
   "execution_count": 14,
   "id": "bd65f1b8",
   "metadata": {},
   "outputs": [
    {
     "name": "stderr",
     "output_type": "stream",
     "text": [
      "c:\\Users\\Playdata\\anaconda3\\envs\\nlp_env\\Lib\\site-packages\\keras\\src\\layers\\core\\embedding.py:100: UserWarning: Do not pass an `input_shape`/`input_dim` argument to a layer. When using Sequential models, prefer using an `Input(shape)` object as the first layer in the model instead.\n",
      "  super().__init__(**kwargs)\n"
     ]
    },
    {
     "data": {
      "text/html": [
       "<pre style=\"white-space:pre;overflow-x:auto;line-height:normal;font-family:Menlo,'DejaVu Sans Mono',consolas,'Courier New',monospace\"><span style=\"font-weight: bold\">Model: \"sequential_2\"</span>\n",
       "</pre>\n"
      ],
      "text/plain": [
       "\u001b[1mModel: \"sequential_2\"\u001b[0m\n"
      ]
     },
     "metadata": {},
     "output_type": "display_data"
    },
    {
     "data": {
      "text/html": [
       "<pre style=\"white-space:pre;overflow-x:auto;line-height:normal;font-family:Menlo,'DejaVu Sans Mono',consolas,'Courier New',monospace\">┏━━━━━━━━━━━━━━━━━━━━━━━━━━━━━━━━━┳━━━━━━━━━━━━━━━━━━━━━━━━┳━━━━━━━━━━━━━━━┓\n",
       "┃<span style=\"font-weight: bold\"> Layer (type)                    </span>┃<span style=\"font-weight: bold\"> Output Shape           </span>┃<span style=\"font-weight: bold\">       Param # </span>┃\n",
       "┡━━━━━━━━━━━━━━━━━━━━━━━━━━━━━━━━━╇━━━━━━━━━━━━━━━━━━━━━━━━╇━━━━━━━━━━━━━━━┩\n",
       "│ embedding_2 (<span style=\"color: #0087ff; text-decoration-color: #0087ff\">Embedding</span>)         │ (<span style=\"color: #00d7ff; text-decoration-color: #00d7ff\">None</span>, <span style=\"color: #00af00; text-decoration-color: #00af00\">50</span>, <span style=\"color: #00af00; text-decoration-color: #00af00\">128</span>)        │     <span style=\"color: #00af00; text-decoration-color: #00af00\">1,224,576</span> │\n",
       "├─────────────────────────────────┼────────────────────────┼───────────────┤\n",
       "│ lstm_2 (<span style=\"color: #0087ff; text-decoration-color: #0087ff\">LSTM</span>)                   │ (<span style=\"color: #00d7ff; text-decoration-color: #00d7ff\">None</span>, <span style=\"color: #00af00; text-decoration-color: #00af00\">128</span>)            │       <span style=\"color: #00af00; text-decoration-color: #00af00\">131,584</span> │\n",
       "├─────────────────────────────────┼────────────────────────┼───────────────┤\n",
       "│ dropout_2 (<span style=\"color: #0087ff; text-decoration-color: #0087ff\">Dropout</span>)             │ (<span style=\"color: #00d7ff; text-decoration-color: #00d7ff\">None</span>, <span style=\"color: #00af00; text-decoration-color: #00af00\">128</span>)            │             <span style=\"color: #00af00; text-decoration-color: #00af00\">0</span> │\n",
       "├─────────────────────────────────┼────────────────────────┼───────────────┤\n",
       "│ dense_4 (<span style=\"color: #0087ff; text-decoration-color: #0087ff\">Dense</span>)                 │ (<span style=\"color: #00d7ff; text-decoration-color: #00d7ff\">None</span>, <span style=\"color: #00af00; text-decoration-color: #00af00\">64</span>)             │         <span style=\"color: #00af00; text-decoration-color: #00af00\">8,256</span> │\n",
       "├─────────────────────────────────┼────────────────────────┼───────────────┤\n",
       "│ dense_5 (<span style=\"color: #0087ff; text-decoration-color: #0087ff\">Dense</span>)                 │ (<span style=\"color: #00d7ff; text-decoration-color: #00d7ff\">None</span>, <span style=\"color: #00af00; text-decoration-color: #00af00\">3</span>)              │           <span style=\"color: #00af00; text-decoration-color: #00af00\">195</span> │\n",
       "└─────────────────────────────────┴────────────────────────┴───────────────┘\n",
       "</pre>\n"
      ],
      "text/plain": [
       "┏━━━━━━━━━━━━━━━━━━━━━━━━━━━━━━━━━┳━━━━━━━━━━━━━━━━━━━━━━━━┳━━━━━━━━━━━━━━━┓\n",
       "┃\u001b[1m \u001b[0m\u001b[1mLayer (type)                   \u001b[0m\u001b[1m \u001b[0m┃\u001b[1m \u001b[0m\u001b[1mOutput Shape          \u001b[0m\u001b[1m \u001b[0m┃\u001b[1m \u001b[0m\u001b[1m      Param #\u001b[0m\u001b[1m \u001b[0m┃\n",
       "┡━━━━━━━━━━━━━━━━━━━━━━━━━━━━━━━━━╇━━━━━━━━━━━━━━━━━━━━━━━━╇━━━━━━━━━━━━━━━┩\n",
       "│ embedding_2 (\u001b[38;5;33mEmbedding\u001b[0m)         │ (\u001b[38;5;45mNone\u001b[0m, \u001b[38;5;34m50\u001b[0m, \u001b[38;5;34m128\u001b[0m)        │     \u001b[38;5;34m1,224,576\u001b[0m │\n",
       "├─────────────────────────────────┼────────────────────────┼───────────────┤\n",
       "│ lstm_2 (\u001b[38;5;33mLSTM\u001b[0m)                   │ (\u001b[38;5;45mNone\u001b[0m, \u001b[38;5;34m128\u001b[0m)            │       \u001b[38;5;34m131,584\u001b[0m │\n",
       "├─────────────────────────────────┼────────────────────────┼───────────────┤\n",
       "│ dropout_2 (\u001b[38;5;33mDropout\u001b[0m)             │ (\u001b[38;5;45mNone\u001b[0m, \u001b[38;5;34m128\u001b[0m)            │             \u001b[38;5;34m0\u001b[0m │\n",
       "├─────────────────────────────────┼────────────────────────┼───────────────┤\n",
       "│ dense_4 (\u001b[38;5;33mDense\u001b[0m)                 │ (\u001b[38;5;45mNone\u001b[0m, \u001b[38;5;34m64\u001b[0m)             │         \u001b[38;5;34m8,256\u001b[0m │\n",
       "├─────────────────────────────────┼────────────────────────┼───────────────┤\n",
       "│ dense_5 (\u001b[38;5;33mDense\u001b[0m)                 │ (\u001b[38;5;45mNone\u001b[0m, \u001b[38;5;34m3\u001b[0m)              │           \u001b[38;5;34m195\u001b[0m │\n",
       "└─────────────────────────────────┴────────────────────────┴───────────────┘\n"
      ]
     },
     "metadata": {},
     "output_type": "display_data"
    },
    {
     "data": {
      "text/html": [
       "<pre style=\"white-space:pre;overflow-x:auto;line-height:normal;font-family:Menlo,'DejaVu Sans Mono',consolas,'Courier New',monospace\"><span style=\"font-weight: bold\"> Total params: </span><span style=\"color: #00af00; text-decoration-color: #00af00\">1,364,611</span> (5.21 MB)\n",
       "</pre>\n"
      ],
      "text/plain": [
       "\u001b[1m Total params: \u001b[0m\u001b[38;5;34m1,364,611\u001b[0m (5.21 MB)\n"
      ]
     },
     "metadata": {},
     "output_type": "display_data"
    },
    {
     "data": {
      "text/html": [
       "<pre style=\"white-space:pre;overflow-x:auto;line-height:normal;font-family:Menlo,'DejaVu Sans Mono',consolas,'Courier New',monospace\"><span style=\"font-weight: bold\"> Trainable params: </span><span style=\"color: #00af00; text-decoration-color: #00af00\">1,364,611</span> (5.21 MB)\n",
       "</pre>\n"
      ],
      "text/plain": [
       "\u001b[1m Trainable params: \u001b[0m\u001b[38;5;34m1,364,611\u001b[0m (5.21 MB)\n"
      ]
     },
     "metadata": {},
     "output_type": "display_data"
    },
    {
     "data": {
      "text/html": [
       "<pre style=\"white-space:pre;overflow-x:auto;line-height:normal;font-family:Menlo,'DejaVu Sans Mono',consolas,'Courier New',monospace\"><span style=\"font-weight: bold\"> Non-trainable params: </span><span style=\"color: #00af00; text-decoration-color: #00af00\">0</span> (0.00 B)\n",
       "</pre>\n"
      ],
      "text/plain": [
       "\u001b[1m Non-trainable params: \u001b[0m\u001b[38;5;34m0\u001b[0m (0.00 B)\n"
      ]
     },
     "metadata": {},
     "output_type": "display_data"
    }
   ],
   "source": [
    "vocab_size = len(tokenizer.word_index) + 1\n",
    "\n",
    "model = Sequential()\n",
    "model.add(Embedding(input_dim=vocab_size, output_dim=128, input_shape = (max_len,)))\n",
    "model.add(LSTM(128))\n",
    "model.add(Dropout(0.5))\n",
    "model.add(Dense(64, activation='relu'))\n",
    "model.add(Dense(3, activation='softmax'))  # -1, 0, 1 \n",
    "\n",
    "model.compile(loss='sparse_categorical_crossentropy', optimizer='adam', metrics=['accuracy'])\n",
    "model.summary()\n"
   ]
  },
  {
   "cell_type": "markdown",
   "id": "110e7acf",
   "metadata": {},
   "source": [
    "### 4. 모델 학습"
   ]
  },
  {
   "cell_type": "code",
   "execution_count": 15,
   "id": "0f224c0b",
   "metadata": {},
   "outputs": [
    {
     "name": "stdout",
     "output_type": "stream",
     "text": [
      "Epoch 1/10\n",
      "\u001b[1m238/238\u001b[0m \u001b[32m━━━━━━━━━━━━━━━━━━━━\u001b[0m\u001b[37m\u001b[0m \u001b[1m14s\u001b[0m 54ms/step - accuracy: 0.7322 - loss: 0.6193 - val_accuracy: 0.7487 - val_loss: 0.5755\n",
      "Epoch 2/10\n",
      "\u001b[1m238/238\u001b[0m \u001b[32m━━━━━━━━━━━━━━━━━━━━\u001b[0m\u001b[37m\u001b[0m \u001b[1m12s\u001b[0m 52ms/step - accuracy: 0.8291 - loss: 0.4116 - val_accuracy: 0.7634 - val_loss: 0.5891\n",
      "Epoch 3/10\n",
      "\u001b[1m238/238\u001b[0m \u001b[32m━━━━━━━━━━━━━━━━━━━━\u001b[0m\u001b[37m\u001b[0m \u001b[1m12s\u001b[0m 50ms/step - accuracy: 0.8682 - loss: 0.3338 - val_accuracy: 0.7614 - val_loss: 0.5829\n",
      "Epoch 4/10\n",
      "\u001b[1m238/238\u001b[0m \u001b[32m━━━━━━━━━━━━━━━━━━━━\u001b[0m\u001b[37m\u001b[0m \u001b[1m12s\u001b[0m 52ms/step - accuracy: 0.8942 - loss: 0.2771 - val_accuracy: 0.7508 - val_loss: 0.6796\n",
      "Epoch 5/10\n",
      "\u001b[1m238/238\u001b[0m \u001b[32m━━━━━━━━━━━━━━━━━━━━\u001b[0m\u001b[37m\u001b[0m \u001b[1m12s\u001b[0m 51ms/step - accuracy: 0.9095 - loss: 0.2383 - val_accuracy: 0.7558 - val_loss: 0.7721\n",
      "Epoch 6/10\n",
      "\u001b[1m238/238\u001b[0m \u001b[32m━━━━━━━━━━━━━━━━━━━━\u001b[0m\u001b[37m\u001b[0m \u001b[1m12s\u001b[0m 50ms/step - accuracy: 0.9278 - loss: 0.1972 - val_accuracy: 0.7447 - val_loss: 0.7974\n",
      "Epoch 7/10\n",
      "\u001b[1m238/238\u001b[0m \u001b[32m━━━━━━━━━━━━━━━━━━━━\u001b[0m\u001b[37m\u001b[0m \u001b[1m12s\u001b[0m 51ms/step - accuracy: 0.9366 - loss: 0.1723 - val_accuracy: 0.7396 - val_loss: 0.9358\n",
      "Epoch 8/10\n",
      "\u001b[1m238/238\u001b[0m \u001b[32m━━━━━━━━━━━━━━━━━━━━\u001b[0m\u001b[37m\u001b[0m \u001b[1m12s\u001b[0m 51ms/step - accuracy: 0.9460 - loss: 0.1455 - val_accuracy: 0.7264 - val_loss: 1.0925\n",
      "Epoch 9/10\n",
      "\u001b[1m238/238\u001b[0m \u001b[32m━━━━━━━━━━━━━━━━━━━━\u001b[0m\u001b[37m\u001b[0m \u001b[1m12s\u001b[0m 51ms/step - accuracy: 0.9513 - loss: 0.1307 - val_accuracy: 0.7432 - val_loss: 1.0256\n",
      "Epoch 10/10\n",
      "\u001b[1m238/238\u001b[0m \u001b[32m━━━━━━━━━━━━━━━━━━━━\u001b[0m\u001b[37m\u001b[0m \u001b[1m12s\u001b[0m 51ms/step - accuracy: 0.9571 - loss: 0.1120 - val_accuracy: 0.7437 - val_loss: 1.1843\n"
     ]
    }
   ],
   "source": [
    "history = model.fit(\n",
    "    X_train, y_train,\n",
    "    epochs=10,\n",
    "    batch_size=64,\n",
    "    validation_data=(X_val, y_val)\n",
    ")"
   ]
  },
  {
   "cell_type": "markdown",
   "id": "50409e29",
   "metadata": {},
   "source": [
    "### 5. 추론"
   ]
  },
  {
   "cell_type": "code",
   "execution_count": 18,
   "id": "01125112",
   "metadata": {},
   "outputs": [
    {
     "name": "stdout",
     "output_type": "stream",
     "text": [
      "\u001b[1m1/1\u001b[0m \u001b[32m━━━━━━━━━━━━━━━━━━━━\u001b[0m\u001b[37m\u001b[0m \u001b[1m0s\u001b[0m 42ms/step\n",
      "0\n"
     ]
    }
   ],
   "source": [
    "def predict_sentiment(text):\n",
    "    seq = tokenizer.texts_to_sequences([kor_tokenize(text)])\n",
    "    pad_seq = pad_sequences(seq, maxlen=max_len)\n",
    "    pred = model.predict(pad_seq)\n",
    "    # 다시 0→-1, 1→0, 2→1\n",
    "    return pred.argmax() - 1\n",
    "\n",
    "print(predict_sentiment(\"색깔은 예쁜데 그냥 그래요.\"))\n"
   ]
  },
  {
   "cell_type": "code",
   "execution_count": 25,
   "id": "c34097f7",
   "metadata": {},
   "outputs": [
    {
     "name": "stdout",
     "output_type": "stream",
     "text": [
      "문장: 가격이 착하고 디자인이 예쁩니다\n",
      "예측 라벨: 1\n",
      "\n",
      "문장: 배송이 느리고 품질이 별로였어요\n",
      "예측 라벨: -1\n",
      "\n",
      "문장: 그냥 무난한 상품입니다\n",
      "예측 라벨: 0\n",
      "\n",
      "문장: 색깔은 예쁜데 그냥 그래요.\n",
      "예측 라벨: 0\n",
      "\n",
      "문장: 와... 배송이 이렇게 빠를 줄이야! 대만족이에요\n",
      "예측 라벨: 1\n",
      "\n",
      "문장: 사진이랑 완전 다르고 품질이 엉망이에요\n",
      "예측 라벨: -1\n",
      "\n",
      "문장: 그냥 평범해요, 특별한 건 없네요\n",
      "예측 라벨: 0\n",
      "\n",
      "문장: 포장 상태가 너무 엉망이라 화가 났어요\n",
      "예측 라벨: -1\n",
      "\n",
      "문장: 할인 쿠폰 덕분에 저렴하게 샀습니다\n",
      "예측 라벨: 1\n",
      "\n",
      "문장: 한두 번은 쓸만한데 내구성이 약하네요\n",
      "예측 라벨: -1\n",
      "\n"
     ]
    }
   ],
   "source": [
    "def predict_sentiments(texts):\n",
    "    results = []\n",
    "    for t in texts:\n",
    "        seq = tokenizer.texts_to_sequences([kor_tokenize(t)])\n",
    "        pad_seq = pad_sequences(seq, maxlen=max_len)\n",
    "        pred = model.predict(pad_seq, verbose=0)\n",
    "        label = pred.argmax() - 1   \n",
    "        results.append((t, label))\n",
    "    return results\n",
    "\n",
    "# 테스트\n",
    "test_texts = [\n",
    "    \"가격이 착하고 디자인이 예쁩니다\",\n",
    "    \"배송이 느리고 품질이 별로였어요\",\n",
    "    \"그냥 무난한 상품입니다\",\n",
    "    \"색깔은 예쁜데 그냥 그래요.\",\n",
    "    \"와... 배송이 이렇게 빠를 줄이야! 대만족이에요\", \n",
    "    \"사진이랑 완전 다르고 품질이 엉망이에요\",                \n",
    "    \"그냥 평범해요, 특별한 건 없네요\",               \n",
    "    \"포장 상태가 너무 엉망이라 화가 났어요\",          \n",
    "    \"할인 쿠폰 덕분에 저렴하게 샀습니다\",        \n",
    "    \"한두 번은 쓸만한데 내구성이 약하네요\"\n",
    "]\n",
    "\n",
    "for text, label in predict_sentiments(test_texts):\n",
    "    print(f\"문장: {text}\\n예측 라벨: {label}\\n\")\n"
   ]
  }
 ],
 "metadata": {
  "kernelspec": {
   "display_name": "nlp_env",
   "language": "python",
   "name": "python3"
  },
  "language_info": {
   "codemirror_mode": {
    "name": "ipython",
    "version": 3
   },
   "file_extension": ".py",
   "mimetype": "text/x-python",
   "name": "python",
   "nbconvert_exporter": "python",
   "pygments_lexer": "ipython3",
   "version": "3.12.11"
  }
 },
 "nbformat": 4,
 "nbformat_minor": 5
}
